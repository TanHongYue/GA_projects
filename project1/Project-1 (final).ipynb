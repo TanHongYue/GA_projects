{
 "cells": [
  {
   "cell_type": "markdown",
   "metadata": {},
   "source": [
    "<img src=\"http://imgur.com/1ZcRyrc.png\" style=\"float: left; margin: 20px; height: 55px\">\n",
    "\n",
    "# Project 1: Python Coding Exercises\n",
    "\n",
    "_Authors: Joseph Nelson (DC) _\n",
    "\n",
    "---"
   ]
  },
  {
   "cell_type": "markdown",
   "metadata": {},
   "source": [
    "The following code challenges are drawn from common exercises used in technical interviews.\n",
    "\n",
    "Please note that there may be several ways to approach each challenge. If you get stuck, try mapping out your approach in pseudocode first. Finally, while solutions to problems like these may be found online, remember that if you copy/paste code that you can't explain, you'll be missing out on the point of the project. The only way to truly learn a new skill is through practice, trial, and error - we can only help you improve by understanding where you are having trouble."
   ]
  },
  {
   "cell_type": "markdown",
   "metadata": {},
   "source": [
    "### Challenge 1: Largest Palindrome\n",
    "A palindromic number reads the same both ways. For example, 1234321 is a palindrome. The largest palindrome made from the product of two two-digit numbers is 9009 = 91 × 99. Find the largest palindrome made from the product of two three-digit numbers. Afterward, write a brief explanation walking through your code's logic in markdown."
   ]
  },
  {
   "cell_type": "code",
   "execution_count": 1,
   "metadata": {},
   "outputs": [
    {
     "name": "stdout",
     "output_type": "stream",
     "text": [
      "906609\n"
     ]
    }
   ],
   "source": [
    "#Code for 3-digit number.\n",
    "#Create an empty list p3list=[] to consolidate all the i*j results.\n",
    "#Set up two for loops, one for each digit. \n",
    "#Check if the i*j number is a palindrome (i.e. if the first digit--[0] is equal to the last digit--[-1] and etc.)\n",
    "#before appending to the empty list.\n",
    "#Print out the max of the list of palindrome.\n",
    "p3list=[]\n",
    "for i in range(100,1000):\n",
    "    for j in range(100,1000):\n",
    "        if str(i*j)[0] == str(i*j)[-1]:\n",
    "            if str(i*j)[1] == str(i*j)[-2]:\n",
    "                if str(i*j)[2] == str(i*j)[-3]:\n",
    "                    p3list.append(i*j)\n",
    "print(max(p3list))"
   ]
  },
  {
   "cell_type": "markdown",
   "metadata": {},
   "source": [
    "\n",
    "### Challenge 2: Summation of Primes\n",
    "The sum of the primes below 10 is 2 + 3 + 5 + 7 = 17. Find the sum of all the primes below 2,000. Afterward, write a brief explanation walking through your code's logic in markdown."
   ]
  },
  {
   "cell_type": "code",
   "execution_count": 8,
   "metadata": {},
   "outputs": [
    {
     "name": "stdout",
     "output_type": "stream",
     "text": [
      "458860\n"
     ]
    }
   ],
   "source": [
    "#Wrong solution.\n",
    "#Prime numbers are only divisible by itelf.\n",
    "#Include all primes below 10 in the list--primelist=[], as they will be used as divisibles to check \n",
    "#for primes beyond 10.\n",
    "primelist=[2,3,5,7]\n",
    "\n",
    "#Set up a for loop to get all primes within range 10 to 2000. Primes are obtained by checking if its \n",
    "#remainder is 0 when divided by 2,3, 5 or 7.\n",
    "for prime in range(10,2000):\n",
    "    if not prime%2 == 0:\n",
    "        if not prime%3==0:\n",
    "            if not prime%5==0:\n",
    "                if not prime%7==0:\n",
    "                    primelist.append(prime)\n",
    "\n",
    "#Set up a for loop to sum up all primes found in the primelist.\n",
    "for prime in primelist:\n",
    "    totalsum = sum(primelist)\n",
    "print (totalsum)"
   ]
  },
  {
   "cell_type": "code",
   "execution_count": null,
   "metadata": {},
   "outputs": [],
   "source": [
    "for i in range(2000):\n",
    "    if i%i==0"
   ]
  },
  {
   "cell_type": "markdown",
   "metadata": {},
   "source": [
    "### Challenge 3: Multiples of 3 and 5\n",
    "If we list all of the natural numbers below 10 that are multiples of 3 or 5, we get 3, 5, 6, and 9. The sum of these multiples is 23. Find the sum of all the multiples of 3 and 5 below 1,000. Afterward, write a brief explanation walking through your code's logic in markdown."
   ]
  },
  {
   "cell_type": "code",
   "execution_count": 3,
   "metadata": {},
   "outputs": [
    {
     "name": "stdout",
     "output_type": "stream",
     "text": [
      "233168\n"
     ]
    }
   ],
   "source": [
    "#Code for natural numbers below 1000.\n",
    "#Create an empty list--mlist=[].\n",
    "#Set up a for loop for range 0 to 1000, and append those natural numbers which are multiples of 3 or 5 in mlist.\n",
    "#Sum up mlist.\n",
    "mlist=[]\n",
    "for i in range(1000):\n",
    "    if i%3==0 or i%5==0:\n",
    "        mlist.append(i)\n",
    "\n",
    "new_mlist = list(set(mlist))\n",
    "\n",
    "print(sum(new_mlist))"
   ]
  },
  {
   "cell_type": "markdown",
   "metadata": {},
   "source": [
    "### Challenge 4: String Compressor\n",
    "Implement a method to perform basic string compression using the counts of repeated characters. (This is called run-length encoding.) For example, the string \"aabcccccaaa\" would become a2b1c5a3. If the “compressed” string would not become smaller than the original string, your method should return the original string. You can assume the string has only uppercase and lowercase letters (a–z). Specify whether your solution is case sensitive or case insensitive and what you would need to change to make it the other. Afterward, write a brief explanation walking through your code's logic in markdown."
   ]
  },
  {
   "cell_type": "code",
   "execution_count": 12,
   "metadata": {},
   "outputs": [
    {
     "name": "stdout",
     "output_type": "stream",
     "text": [
      "a2b1c5a3\n"
     ]
    }
   ],
   "source": [
    "#Define stringCom as a string compressor function, which is case sensitive, either all lower/upper case.\n",
    "#Original string which we want to perform run length encoding on -- assigned to w.\n",
    "#Create another string, which is the original string w less first character,then \n",
    "#CONCAT an additional artificial string (num) -- assigned to w1.\n",
    "#An aritificial character \"str(num)\" needs to be addded to w1, so that we can compare w&w1 till the last character.\n",
    "#Set up a for loop, to loop through all characters in w, using \"for i in range(len(w))\"\n",
    "#len(w) is used in place of w, as we need to compare the two strings--w&w1 by indexing.\n",
    "#Compare w&w1 to see if there are repeated sequential characters. \n",
    "#If characters are NOT repeated sequentially, CONCAT the current looped character and number digit 1, \n",
    "#and store in wnew.\n",
    "#wnew+=w[i] +str(count) instead of wnew=w[i] +str(count) as the character has to be added everytime to wnew whenever \n",
    "#the IF block is true.\n",
    "#count within the IF block has to be resetted to 1 every time the loop variable runs through.\n",
    "#If characters are repeated sequentially, +1 in count variable, then outside the loop, CONCAT the \n",
    "#current looped character and the total count, and store it in wnew.\n",
    "#wnew+=w[i] +str(count) instead of wnew=w[i] +str(count) as the character has to be added everytime to wnew whenever \n",
    "#the IF block is true.\n",
    "#The last two characters of wnew needs to be omitted, as due to the artificial str(num) assigned to w1, \n",
    "#there will be a redundent \"w[-1] character + 1\".\n",
    "#Check if the length of new string--wnew is shorter than the original string--w, and if true, output wnew and if false, \n",
    "#output w.\n",
    "\n",
    "w=\"aabcccccaaa\"\n",
    "\n",
    "def stringCom(w):\n",
    "    w1=w[1:]+str(0)\n",
    "\n",
    "    wnew=\"\"\n",
    "    count=1\n",
    "\n",
    "    for i in range(len(w)):\n",
    "        if w[i]!=w1[i]:\n",
    "            wnew+=w[i]+str(count)\n",
    "            count=1\n",
    "        if w[i]==w1[i]:\n",
    "            count+=1\n",
    "    wnew+=w[i]+str(count)\n",
    "    wnew=wnew[:-2]\n",
    "    if len(wnew)<len(w):\n",
    "        print(wnew)\n",
    "    if len(wnew)>len(w):\n",
    "        print(w)\n",
    "    \n",
    "stringCom(\"aabcccccaaa\")"
   ]
  },
  {
   "cell_type": "code",
   "execution_count": 3,
   "metadata": {},
   "outputs": [
    {
     "name": "stdout",
     "output_type": "stream",
     "text": [
      "a2b1c5a3\n"
     ]
    }
   ],
   "source": [
    "#Define stringCom2 as a string compressor function, which is case insensitive. \n",
    "#Original string can comprise mixed/lower/upper casing, and the function will take care of the variations by \n",
    "#converting all characters to lower casing, using w.lower().\n",
    "\n",
    "def stringCom2 (w):\n",
    "    w1=w[1:]+str(0)\n",
    "\n",
    "    wnew=\"\"\n",
    "    count=1\n",
    "\n",
    "    for i in range(len(w)):\n",
    "        if w[i].lower()!=w1[i].lower():\n",
    "            wnew+=w[i].lower()+str(count)\n",
    "            count=1\n",
    "        if w[i].lower()==w1[i].lower():\n",
    "            count+=1\n",
    "    wnew+=w[i].lower()+str(count)\n",
    "    wnew=wnew[:-2]\n",
    "    if len(wnew)<len(w):\n",
    "        print(wnew)\n",
    "    if len(wnew)>len(w):\n",
    "        print(w.lower())\n",
    "\n",
    "stringCom2(\"Aabcccccaaa\")"
   ]
  },
  {
   "cell_type": "markdown",
   "metadata": {},
   "source": [
    "### *BONUS* Challenge: FizzBuzz\n",
    "Write a program that prints all of the numbers from 1 to 100. For multiples of 3, instead of the number, print \"Fizz;\" for multiples of 5, print \"Buzz.\" For numbers that are multiples of both 3 and 5, print \"FizzBuzz.\" Afterward, write a brief explanation walking through your code's logic in markdown."
   ]
  },
  {
   "cell_type": "code",
   "execution_count": 587,
   "metadata": {},
   "outputs": [
    {
     "name": "stdout",
     "output_type": "stream",
     "text": [
      "[1, 2, 'Fizz', 4, 'Buzz', 'Fizz', 7, 8, 'Fizz', 'Buzz', 11, 'Fizz', 13, 14, 'FizzBuzz', 16, 17, 'Fizz', 19, 'Buzz', 'Fizz', 22, 23, 'Fizz', 'Buzz', 26, 'Fizz', 28, 29, 'FizzBuzz', 31, 32, 'Fizz', 34, 'Buzz', 'Fizz', 37, 38, 'Fizz', 'Buzz', 41, 'Fizz', 43, 44, 'FizzBuzz', 46, 47, 'Fizz', 49, 'Buzz', 'Fizz', 52, 53, 'Fizz', 'Buzz', 56, 'Fizz', 58, 59, 'FizzBuzz', 61, 62, 'Fizz', 64, 'Buzz', 'Fizz', 67, 68, 'Fizz', 'Buzz', 71, 'Fizz', 73, 74, 'FizzBuzz', 76, 77, 'Fizz', 79, 'Buzz', 'Fizz', 82, 83, 'Fizz', 'Buzz', 86, 'Fizz', 88, 89, 'FizzBuzz', 91, 92, 'Fizz', 94, 'Buzz', 'Fizz', 97, 98, 'Fizz', 'Buzz']\n"
     ]
    }
   ],
   "source": [
    "#Set up a for loop from range 1 to 100.\n",
    "#Create an empty list, nlist=[] to contain the results in a list.\n",
    "#Place the conditions in the order where the most restrictive condtion comes first \n",
    "#and the least restrictive condition will come last.\n",
    "\n",
    "nlist=[]\n",
    "for i in range(1,101):\n",
    "    if i%3==0 and i%5==0:\n",
    "        nlist.append(\"FizzBuzz\")\n",
    "    elif i%3==0:\n",
    "        nlist.append(\"Fizz\")\n",
    "    elif i%5==0:\n",
    "        nlist.append(\"Buzz\")\n",
    "    else:\n",
    "        nlist.append(i)\n",
    "print(nlist)"
   ]
  }
 ],
 "metadata": {
  "anaconda-cloud": {},
  "kernelspec": {
   "display_name": "Python 3",
   "language": "python",
   "name": "python3"
  },
  "language_info": {
   "codemirror_mode": {
    "name": "ipython",
    "version": 3
   },
   "file_extension": ".py",
   "mimetype": "text/x-python",
   "name": "python",
   "nbconvert_exporter": "python",
   "pygments_lexer": "ipython3",
   "version": "3.6.5"
  }
 },
 "nbformat": 4,
 "nbformat_minor": 2
}
